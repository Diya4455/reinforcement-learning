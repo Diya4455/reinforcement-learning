{
  "cells": [
    {
      "cell_type": "markdown",
      "metadata": {
        "id": "view-in-github",
        "colab_type": "text"
      },
      "source": [
        "<a href=\"https://colab.research.google.com/github/Diya4455/reinforcement-learning/blob/main/RL_Exp_01_diya.ipynb\" target=\"_parent\"><img src=\"https://colab.research.google.com/assets/colab-badge.svg\" alt=\"Open In Colab\"/></a>"
      ]
    },
    {
      "cell_type": "code",
      "execution_count": null,
      "id": "81099cc8",
      "metadata": {
        "id": "81099cc8",
        "outputId": "c232ce96-961d-4a59-d5e2-a15b606afa0d"
      },
      "outputs": [
        {
          "name": "stdout",
          "output_type": "stream",
          "text": [
            "[1, 2, 3]\n"
          ]
        }
      ],
      "source": [
        "xs=[1,2,3]\n",
        "print(xs)"
      ]
    },
    {
      "cell_type": "code",
      "execution_count": null,
      "id": "c0b1f9ed",
      "metadata": {
        "id": "c0b1f9ed",
        "outputId": "8f392be6-bb8d-4a47-bf9a-f36038ece596"
      },
      "outputs": [
        {
          "name": "stdout",
          "output_type": "stream",
          "text": [
            "[0, 1, 2, 3, 4]\n",
            "[2, 3]\n",
            "[2, 3, 4]\n",
            "[0, 1]\n",
            "[0, 1, 2, 3, 4]\n",
            "[0, 1, 2, 3]\n",
            "[0, 8, 9, 0, 3, 4]\n"
          ]
        }
      ],
      "source": [
        "\n",
        "nums=list(range(5))\n",
        "\n",
        "print(nums)\n",
        "print(nums[2:4])\n",
        "print(nums[2:])\n",
        "print(nums[:2])\n",
        "print(nums[:])\n",
        "print(nums[:-1])\n",
        "nums[1:3]=[8,9,0]\n",
        "print(nums)"
      ]
    },
    {
      "cell_type": "code",
      "execution_count": null,
      "id": "f9046a91",
      "metadata": {
        "id": "f9046a91",
        "outputId": "7f6a166f-de46-4b0a-95cd-f6241a139dac"
      },
      "outputs": [
        {
          "name": "stdout",
          "output_type": "stream",
          "text": [
            "['cat', 'dog', 'monkey']\n",
            "['cat', 'dog', 'monkey']\n",
            "['cat', 'dog', 'monkey']\n"
          ]
        }
      ],
      "source": [
        "animals=['cat', 'dog', 'monkey']\n",
        "for animal in animals:\n",
        "  print(animals)"
      ]
    },
    {
      "cell_type": "code",
      "execution_count": null,
      "id": "1c5079cb",
      "metadata": {
        "id": "1c5079cb",
        "outputId": "a8ac57fb-9306-4761-bb0d-8a78f62515cd"
      },
      "outputs": [
        {
          "name": "stdout",
          "output_type": "stream",
          "text": [
            "#1: cat\n",
            "#2: dog\n",
            "#3: monkey\n"
          ]
        }
      ],
      "source": [
        "animals=['cat', 'dog', 'monkey']\n",
        "for idx, animals in enumerate(animals):\n",
        "  print('#{}: {}'. format(idx + 1, animals))"
      ]
    },
    {
      "cell_type": "code",
      "execution_count": null,
      "id": "38cda53e",
      "metadata": {
        "id": "38cda53e"
      },
      "outputs": [],
      "source": []
    }
  ],
  "metadata": {
    "kernelspec": {
      "display_name": "Python 3 (ipykernel)",
      "language": "python",
      "name": "python3"
    },
    "language_info": {
      "codemirror_mode": {
        "name": "ipython",
        "version": 3
      },
      "file_extension": ".py",
      "mimetype": "text/x-python",
      "name": "python",
      "nbconvert_exporter": "python",
      "pygments_lexer": "ipython3",
      "version": "3.9.12"
    },
    "colab": {
      "provenance": [],
      "include_colab_link": true
    }
  },
  "nbformat": 4,
  "nbformat_minor": 5
}